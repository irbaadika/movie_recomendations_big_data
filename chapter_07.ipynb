{
  "nbformat": 4,
  "nbformat_minor": 0,
  "metadata": {
    "colab": {
      "provenance": [],
      "authorship_tag": "ABX9TyNmzH8I2+RJhUvGuX8sILxS",
      "include_colab_link": true
    },
    "kernelspec": {
      "name": "python3",
      "display_name": "Python 3"
    },
    "language_info": {
      "name": "python"
    }
  },
  "cells": [
    {
      "cell_type": "markdown",
      "metadata": {
        "id": "view-in-github",
        "colab_type": "text"
      },
      "source": [
        "<a href=\"https://colab.research.google.com/github/irbaadika/movie_recomendations_big_data/blob/main/chapter_07.ipynb\" target=\"_parent\"><img src=\"https://colab.research.google.com/assets/colab-badge.svg\" alt=\"Open In Colab\"/></a>"
      ]
    },
    {
      "cell_type": "code",
      "execution_count": 1,
      "metadata": {
        "colab": {
          "base_uri": "https://localhost:8080/"
        },
        "id": "5O38_7h-74CC",
        "outputId": "5dd0660b-50a3-45b0-9349-b5dd0e1ae979"
      },
      "outputs": [
        {
          "output_type": "stream",
          "name": "stdout",
          "text": [
            "Mounted at /content/drive\n"
          ]
        }
      ],
      "source": [
        "# Connect to Drive\n",
        "\n",
        "from google.colab import drive\n",
        "drive.mount('/content/drive')"
      ]
    },
    {
      "cell_type": "code",
      "source": [
        "# Install pyspark di google colab\n",
        "\n",
        "!pip install pyspark"
      ],
      "metadata": {
        "colab": {
          "base_uri": "https://localhost:8080/"
        },
        "id": "4Tt6vCwW8Rbs",
        "outputId": "69aa5459-c8cf-4e0e-c027-e632962fce2f"
      },
      "execution_count": 2,
      "outputs": [
        {
          "output_type": "stream",
          "name": "stdout",
          "text": [
            "Looking in indexes: https://pypi.org/simple, https://us-python.pkg.dev/colab-wheels/public/simple/\n",
            "Collecting pyspark\n",
            "  Downloading pyspark-3.4.0.tar.gz (310.8 MB)\n",
            "\u001b[2K     \u001b[90m━━━━━━━━━━━━━━━━━━━━━━━━━━━━━━━━━━━━━━━\u001b[0m \u001b[32m310.8/310.8 MB\u001b[0m \u001b[31m3.3 MB/s\u001b[0m eta \u001b[36m0:00:00\u001b[0m\n",
            "\u001b[?25h  Preparing metadata (setup.py) ... \u001b[?25l\u001b[?25hdone\n",
            "Requirement already satisfied: py4j==0.10.9.7 in /usr/local/lib/python3.10/dist-packages (from pyspark) (0.10.9.7)\n",
            "Building wheels for collected packages: pyspark\n",
            "  Building wheel for pyspark (setup.py) ... \u001b[?25l\u001b[?25hdone\n",
            "  Created wheel for pyspark: filename=pyspark-3.4.0-py2.py3-none-any.whl size=311317130 sha256=983ec0caf17c053540d46c7a52e77730470bef64752f6369b39f7ec4bb84b638\n",
            "  Stored in directory: /root/.cache/pip/wheels/7b/1b/4b/3363a1d04368e7ff0d408e57ff57966fcdf00583774e761327\n",
            "Successfully built pyspark\n",
            "Installing collected packages: pyspark\n",
            "Successfully installed pyspark-3.4.0\n"
          ]
        }
      ]
    },
    {
      "cell_type": "code",
      "source": [
        "from pyspark.ml.recommendation import ALS\n",
        "from pyspark.sql import SparkSession\n",
        "from pyspark.sql.functions import col\n",
        "import math\n",
        "\n",
        "spark = SparkSession.builder.getOrCreate()\n",
        "sc = spark.sparkContext\n",
        "\n",
        "class Rating:\n",
        "    def __init__(self, userId, movieId, rating, timestamp):\n",
        "        self.userId = userId\n",
        "        self.movieId = movieId\n",
        "        self.rating = rating\n",
        "        self.timestamp = timestamp\n",
        "\n",
        "def parseRating(line):\n",
        "    fields = line.split(\"::\")\n",
        "    assert len(fields) == 4\n",
        "    return Rating(int(fields[0]), int(fields[1]), float(fields[2]), int(fields[3]))\n",
        "\n",
        "# Test it\n",
        "parseRating(\"1::1193::5::978300760\")\n",
        "\n",
        "raw = sc.textFile(\"/content/drive/MyDrive/Big Data/ratings.dat\")\n",
        "# check one record. it should be res4: Array[String] = Array(1::1193::5::978300760)\n",
        "# If this fails the location of the file is wrong.\n",
        "raw.take(1)\n",
        "\n",
        "ratings = raw.map(parseRating).toDF()\n",
        "# check if everything is ok\n",
        "ratings.show(5)\n",
        "\n",
        "training, test = ratings.randomSplit([0.8, 0.2])\n",
        "\n",
        "# Build the recommendation model using ALS on the training data\n",
        "# Alternating Least Squares (ALS) matrix factorization.\n",
        "als = ALS(maxIter=5, regParam=0.01, userCol=\"userId\", itemCol=\"movieId\", ratingCol=\"rating\")\n",
        "\n",
        "model = als.fit(training)\n",
        "model.save(\"mymodel\")\n",
        "\n",
        "# Prepare the recommendations\n",
        "predictions = model.transform(test)\n",
        "squared_diff = predictions.select((col(\"rating\").cast(\"float\") - col(\"prediction\").cast(\"float\")).alias(\"squared_diff\")).na.drop()\n",
        "squared_diff_squared = squared_diff.select((col(\"squared_diff\") ** 2).alias(\"squared_diff_squared\")).na.drop()\n",
        "mse = squared_diff_squared.agg({\"squared_diff_squared\": \"mean\"}).collect()[0][0]\n",
        "rmse = math.sqrt(mse)\n",
        "\n",
        "predictions.take(10)\n",
        "\n",
        "predictions.write.format(\"com.databricks.spark.csv\").save(\"ml-predictions.csv\")"
      ],
      "metadata": {
        "colab": {
          "base_uri": "https://localhost:8080/"
        },
        "id": "-QEShhr68uO-",
        "outputId": "1e3f904b-9c94-45e1-c431-e6b2a1a928cd"
      },
      "execution_count": 3,
      "outputs": [
        {
          "output_type": "stream",
          "name": "stdout",
          "text": [
            "+-------+------+---------+------+\n",
            "|movieId|rating|timestamp|userId|\n",
            "+-------+------+---------+------+\n",
            "|   1193|   5.0|978300760|     1|\n",
            "|    661|   3.0|978302109|     1|\n",
            "|    914|   3.0|978301968|     1|\n",
            "|   3408|   4.0|978300275|     1|\n",
            "|   2355|   5.0|978824291|     1|\n",
            "+-------+------+---------+------+\n",
            "only showing top 5 rows\n",
            "\n"
          ]
        }
      ]
    },
    {
      "cell_type": "code",
      "source": [
        "from pyspark.ml.evaluation import RegressionEvaluator\n",
        "from pyspark.ml.recommendation import ALS\n",
        "from pyspark.sql import Row\n",
        "\n",
        "raw = spark.read.text(\"/content/drive/MyDrive/Big Data/ratings.dat\").rdd\n",
        "mydata = [(2, 0.01)]\n",
        "mydatardd = spark.sparkContext.parallelize(mydata).map(lambda x: (0, x[0], x[1]))\n",
        "\n",
        "def parseRating(row):\n",
        "  fields = row.value.split(\"::\")\n",
        "  return int(fields[0]), int(fields[1]), float(fields[2])\n",
        "\n",
        "ratings = raw.map(parseRating)\n",
        "ratings_df = spark.createDataFrame(ratings, [\"userId\", \"movieId\", \"rating\"])\n",
        "\n",
        "mydatadf = spark.createDataFrame(mydatardd, [\"userId\", \"movieId\", \"rating\"])\n",
        "\n",
        "combine_ratings = ratings_df.union(mydatadf)\n",
        "\n",
        "als = ALS(rank = 8, maxIter=5, regParam=1, userCol=\"userId\", itemCol=\"movieId\", ratingCol=\"rating\")\n",
        "model = als.fit(combine_ratings)\n",
        "\n",
        "products = model.recommendForUserSubset(spark.createDataFrame([(1,)], [\"userId\"]), 10)\n",
        "products.show(5)"
      ],
      "metadata": {
        "colab": {
          "base_uri": "https://localhost:8080/"
        },
        "id": "jKe5WaOw-Ggk",
        "outputId": "8317afff-cc1a-4af7-89b5-b92a8df4ef65"
      },
      "execution_count": 4,
      "outputs": [
        {
          "output_type": "stream",
          "name": "stdout",
          "text": [
            "+------+--------------------+\n",
            "|userId|     recommendations|\n",
            "+------+--------------------+\n",
            "|     1|[{3382, 4.4628477...|\n",
            "+------+--------------------+\n",
            "\n"
          ]
        }
      ]
    },
    {
      "cell_type": "code",
      "source": [
        "from pyspark.mllib.stat import Statistics\n",
        "\n",
        "dataSet = sc.textFile(\"/content/drive/MyDrive/Big Data/ratings.dat\")\n",
        "\n",
        "def parseRating(row):\n",
        "    fields = row.split(\"::\")\n",
        "    return float(fields[2])\n",
        "\n",
        "ratings = dataSet.map(parseRating)\n",
        "mat = ratings.map(lambda x: [x])\n",
        "summary = Statistics.colStats(mat)\n",
        "print(\"Mean:\", summary.mean()[0])\n",
        "print(\"Variance:\", summary.variance()[0])\n",
        "print(\"Number of Non-Zeros:\", summary.numNonzeros()[0])"
      ],
      "metadata": {
        "colab": {
          "base_uri": "https://localhost:8080/"
        },
        "id": "uVnrHKrW-cIn",
        "outputId": "a8f7b76c-6064-438b-d270-0982b4e16428"
      },
      "execution_count": 5,
      "outputs": [
        {
          "output_type": "stream",
          "name": "stdout",
          "text": [
            "Mean: 3.581564453029321\n",
            "Variance: 1.2479165329363306\n",
            "Number of Non-Zeros: 1000209.0\n"
          ]
        }
      ]
    },
    {
      "cell_type": "code",
      "source": [
        "from pyspark.mllib.clustering import KMeans, KMeansModel\n",
        "from numpy import array\n",
        "from math import sqrt\n",
        "\n",
        "data = sc.textFile(\"/content/drive/MyDrive/Big Data/kmeans_data.txt\")\n",
        "parseData = data.map(lambda line:array([float(x) for x in line.split(' ')]))\n",
        "clusters = KMeans.train(parseData, 2, maxIterations=10, initializationMode=\"random\")\n",
        "\n",
        "def error(point):\n",
        "  center = clusters.centers[clusters.predict(point)]\n",
        "  return sqrt(sum([x**2 for x in (point-center)]))\n",
        "\n",
        "WSSSE = parseData.map(lambda point: error(point)).reduce(lambda x, y:x+y)\n",
        "print(\"Within Set Sum of Squared Error = \"+str(WSSSE))\n",
        "\n",
        "clusters.save(sc, \"myModelPath\")\n",
        "sameModel = KMeansModel.load(sc, \"myModelPath\")"
      ],
      "metadata": {
        "colab": {
          "base_uri": "https://localhost:8080/"
        },
        "id": "DcIHjV2h-mgA",
        "outputId": "1c8b0f0b-1e3e-4b91-c293-bebdf32d5153"
      },
      "execution_count": 6,
      "outputs": [
        {
          "output_type": "stream",
          "name": "stdout",
          "text": [
            "Within Set Sum of Squared Error = 0.6928203230275529\n"
          ]
        }
      ]
    }
  ]
}